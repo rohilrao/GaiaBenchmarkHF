{
 "cells": [
  {
   "cell_type": "code",
   "execution_count": 30,
   "id": "6c97a8f9",
   "metadata": {},
   "outputs": [],
   "source": [
    "\n",
    "from smolagents import CodeAgent, DuckDuckGoSearchTool, VisitWebpageTool, FinalAnswerTool, Tool, tool \n",
    "\n",
    "# Create a model using LiteLLMModel with Ollama\n",
    "model = LiteLLMModel(\n",
    "    model_id=\"ollama_chat/qwen2.5-coder:32b\",  # Format: \"ollama_chat/[model-name]\"\n",
    "    api_base=\"http://localhost:11434\",   # Default Ollama API endpoint\n",
    "    api_key=\"ollama\",                    # This is just a placeholder, Ollama doesn't actually require an API key\n",
    "    num_ctx=30000                        # Ollama default is 2048 which might be too small for complex tasks\n",
    ")\n",
    "\n",
    "# Create the CodeAgent with all tools\n",
    "agent = CodeAgent(\n",
    "    tools=[\n",
    "        DuckDuckGoSearchTool(),\n",
    "        VisitWebpageTool(),\n",
    "        FinalAnswerTool()\n",
    "    ],\n",
    "    model=model,\n",
    "    additional_authorized_imports=[\"wikipedia\", \"requests\", \"json\", \"re\", \"datetime\", \"os\"]\n",
    ")"
   ]
  },
  {
   "cell_type": "code",
   "execution_count": 31,
   "id": "f0d40bac",
   "metadata": {},
   "outputs": [
    {
     "data": {
      "text/html": [
       "<pre style=\"white-space:pre;overflow-x:auto;line-height:normal;font-family:Menlo,'DejaVu Sans Mono',consolas,'Courier New',monospace\"><span style=\"color: #d4b702; text-decoration-color: #d4b702\">╭──────────────────────────────────────────────────── </span><span style=\"color: #d4b702; text-decoration-color: #d4b702; font-weight: bold\">New run</span><span style=\"color: #d4b702; text-decoration-color: #d4b702\"> ────────────────────────────────────────────────────╮</span>\n",
       "<span style=\"color: #d4b702; text-decoration-color: #d4b702\">│</span>                                                                                                                 <span style=\"color: #d4b702; text-decoration-color: #d4b702\">│</span>\n",
       "<span style=\"color: #d4b702; text-decoration-color: #d4b702\">│</span> <span style=\"font-weight: bold\">If Eliud Kipchoge could maintain his record-making marathon pace indefinitely, how many thousand hours would it</span> <span style=\"color: #d4b702; text-decoration-color: #d4b702\">│</span>\n",
       "<span style=\"color: #d4b702; text-decoration-color: #d4b702\">│</span> <span style=\"font-weight: bold\">take him to run the distance between the Earth and the Moon its closest approach? Please use the minimum </span>       <span style=\"color: #d4b702; text-decoration-color: #d4b702\">│</span>\n",
       "<span style=\"color: #d4b702; text-decoration-color: #d4b702\">│</span> <span style=\"font-weight: bold\">perigee value on the Wikipedia page for the Moon when carrying out your calculation. Round your result to the </span>  <span style=\"color: #d4b702; text-decoration-color: #d4b702\">│</span>\n",
       "<span style=\"color: #d4b702; text-decoration-color: #d4b702\">│</span> <span style=\"font-weight: bold\">nearest 1000 hours and do not use any comma separators if necessary.</span>                                            <span style=\"color: #d4b702; text-decoration-color: #d4b702\">│</span>\n",
       "<span style=\"color: #d4b702; text-decoration-color: #d4b702\">│</span>                                                                                                                 <span style=\"color: #d4b702; text-decoration-color: #d4b702\">│</span>\n",
       "<span style=\"color: #d4b702; text-decoration-color: #d4b702\">╰─ LiteLLMModel - ollama_chat/qwen2.5-coder:32b ──────────────────────────────────────────────────────────────────╯</span>\n",
       "</pre>\n"
      ],
      "text/plain": [
       "\u001b[38;2;212;183;2m╭─\u001b[0m\u001b[38;2;212;183;2m───────────────────────────────────────────────────\u001b[0m\u001b[38;2;212;183;2m \u001b[0m\u001b[1;38;2;212;183;2mNew run\u001b[0m\u001b[38;2;212;183;2m \u001b[0m\u001b[38;2;212;183;2m───────────────────────────────────────────────────\u001b[0m\u001b[38;2;212;183;2m─╮\u001b[0m\n",
       "\u001b[38;2;212;183;2m│\u001b[0m                                                                                                                 \u001b[38;2;212;183;2m│\u001b[0m\n",
       "\u001b[38;2;212;183;2m│\u001b[0m \u001b[1mIf Eliud Kipchoge could maintain his record-making marathon pace indefinitely, how many thousand hours would it\u001b[0m \u001b[38;2;212;183;2m│\u001b[0m\n",
       "\u001b[38;2;212;183;2m│\u001b[0m \u001b[1mtake him to run the distance between the Earth and the Moon its closest approach? Please use the minimum \u001b[0m       \u001b[38;2;212;183;2m│\u001b[0m\n",
       "\u001b[38;2;212;183;2m│\u001b[0m \u001b[1mperigee value on the Wikipedia page for the Moon when carrying out your calculation. Round your result to the \u001b[0m  \u001b[38;2;212;183;2m│\u001b[0m\n",
       "\u001b[38;2;212;183;2m│\u001b[0m \u001b[1mnearest 1000 hours and do not use any comma separators if necessary.\u001b[0m                                            \u001b[38;2;212;183;2m│\u001b[0m\n",
       "\u001b[38;2;212;183;2m│\u001b[0m                                                                                                                 \u001b[38;2;212;183;2m│\u001b[0m\n",
       "\u001b[38;2;212;183;2m╰─\u001b[0m\u001b[38;2;212;183;2m LiteLLMModel - ollama_chat/qwen2.5-coder:32b \u001b[0m\u001b[38;2;212;183;2m─────────────────────────────────────────────────────────────────\u001b[0m\u001b[38;2;212;183;2m─╯\u001b[0m\n"
      ]
     },
     "metadata": {},
     "output_type": "display_data"
    },
    {
     "data": {
      "text/html": [
       "<pre style=\"white-space:pre;overflow-x:auto;line-height:normal;font-family:Menlo,'DejaVu Sans Mono',consolas,'Courier New',monospace\"><span style=\"color: #d4b702; text-decoration-color: #d4b702\">━━━━━━━━━━━━━━━━━━━━━━━━━━━━━━━━━━━━━━━━━━━━━━━━━━━━━ </span><span style=\"font-weight: bold\">Step </span><span style=\"color: #008080; text-decoration-color: #008080; font-weight: bold\">1</span><span style=\"color: #d4b702; text-decoration-color: #d4b702\"> ━━━━━━━━━━━━━━━━━━━━━━━━━━━━━━━━━━━━━━━━━━━━━━━━━━━━━━</span>\n",
       "</pre>\n"
      ],
      "text/plain": [
       "\u001b[38;2;212;183;2m━━━━━━━━━━━━━━━━━━━━━━━━━━━━━━━━━━━━━━━━━━━━━━━━━━━━━ \u001b[0m\u001b[1mStep \u001b[0m\u001b[1;36m1\u001b[0m\u001b[38;2;212;183;2m ━━━━━━━━━━━━━━━━━━━━━━━━━━━━━━━━━━━━━━━━━━━━━━━━━━━━━━\u001b[0m\n"
      ]
     },
     "metadata": {},
     "output_type": "display_data"
    },
    {
     "data": {
      "text/html": [
       "<pre style=\"white-space:pre;overflow-x:auto;line-height:normal;font-family:Menlo,'DejaVu Sans Mono',consolas,'Courier New',monospace\"> ─ <span style=\"font-weight: bold\">Executing parsed code:</span> ──────────────────────────────────────────────────────────────────────────────────────── \n",
       "  <span style=\"color: #f8f8f2; text-decoration-color: #f8f8f2; background-color: #272822\">kipchoge_pace </span><span style=\"color: #ff4689; text-decoration-color: #ff4689; background-color: #272822\">=</span><span style=\"color: #f8f8f2; text-decoration-color: #f8f8f2; background-color: #272822\"> web_search(</span><span style=\"color: #e6db74; text-decoration-color: #e6db74; background-color: #272822\">\"Eliud Kipchoge marathon record\"</span><span style=\"color: #f8f8f2; text-decoration-color: #f8f8f2; background-color: #272822\">)</span><span style=\"background-color: #272822\">                                                   </span>  \n",
       "  <span style=\"color: #f8f8f2; text-decoration-color: #f8f8f2; background-color: #272822\">moon_perigee </span><span style=\"color: #ff4689; text-decoration-color: #ff4689; background-color: #272822\">=</span><span style=\"color: #f8f8f2; text-decoration-color: #f8f8f2; background-color: #272822\"> web_search(</span><span style=\"color: #e6db74; text-decoration-color: #e6db74; background-color: #272822\">\"Moon closest approach to Earth\"</span><span style=\"color: #f8f8f2; text-decoration-color: #f8f8f2; background-color: #272822\">)</span><span style=\"background-color: #272822\">                                                    </span>  \n",
       "  <span style=\"color: #f8f8f2; text-decoration-color: #f8f8f2; background-color: #272822\">print(</span><span style=\"color: #e6db74; text-decoration-color: #e6db74; background-color: #272822\">f\"Kipchoge's marathon pace: {</span><span style=\"color: #f8f8f2; text-decoration-color: #f8f8f2; background-color: #272822\">kipchoge_pace</span><span style=\"color: #e6db74; text-decoration-color: #e6db74; background-color: #272822\">}\"</span><span style=\"color: #f8f8f2; text-decoration-color: #f8f8f2; background-color: #272822\">)</span><span style=\"background-color: #272822\">                                                            </span>  \n",
       "  <span style=\"color: #f8f8f2; text-decoration-color: #f8f8f2; background-color: #272822\">print(</span><span style=\"color: #e6db74; text-decoration-color: #e6db74; background-color: #272822\">f\"Moon perigee distance: {</span><span style=\"color: #f8f8f2; text-decoration-color: #f8f8f2; background-color: #272822\">moon_perigee</span><span style=\"color: #e6db74; text-decoration-color: #e6db74; background-color: #272822\">}\"</span><span style=\"color: #f8f8f2; text-decoration-color: #f8f8f2; background-color: #272822\">)</span><span style=\"background-color: #272822\">                                                                </span>  \n",
       " ───────────────────────────────────────────────────────────────────────────────────────────────────────────────── \n",
       "</pre>\n"
      ],
      "text/plain": [
       " ─ \u001b[1mExecuting parsed code:\u001b[0m ──────────────────────────────────────────────────────────────────────────────────────── \n",
       "  \u001b[38;2;248;248;242;48;2;39;40;34mkipchoge_pace\u001b[0m\u001b[38;2;248;248;242;48;2;39;40;34m \u001b[0m\u001b[38;2;255;70;137;48;2;39;40;34m=\u001b[0m\u001b[38;2;248;248;242;48;2;39;40;34m \u001b[0m\u001b[38;2;248;248;242;48;2;39;40;34mweb_search\u001b[0m\u001b[38;2;248;248;242;48;2;39;40;34m(\u001b[0m\u001b[38;2;230;219;116;48;2;39;40;34m\"\u001b[0m\u001b[38;2;230;219;116;48;2;39;40;34mEliud Kipchoge marathon record\u001b[0m\u001b[38;2;230;219;116;48;2;39;40;34m\"\u001b[0m\u001b[38;2;248;248;242;48;2;39;40;34m)\u001b[0m\u001b[48;2;39;40;34m                                                   \u001b[0m  \n",
       "  \u001b[38;2;248;248;242;48;2;39;40;34mmoon_perigee\u001b[0m\u001b[38;2;248;248;242;48;2;39;40;34m \u001b[0m\u001b[38;2;255;70;137;48;2;39;40;34m=\u001b[0m\u001b[38;2;248;248;242;48;2;39;40;34m \u001b[0m\u001b[38;2;248;248;242;48;2;39;40;34mweb_search\u001b[0m\u001b[38;2;248;248;242;48;2;39;40;34m(\u001b[0m\u001b[38;2;230;219;116;48;2;39;40;34m\"\u001b[0m\u001b[38;2;230;219;116;48;2;39;40;34mMoon closest approach to Earth\u001b[0m\u001b[38;2;230;219;116;48;2;39;40;34m\"\u001b[0m\u001b[38;2;248;248;242;48;2;39;40;34m)\u001b[0m\u001b[48;2;39;40;34m                                                    \u001b[0m  \n",
       "  \u001b[38;2;248;248;242;48;2;39;40;34mprint\u001b[0m\u001b[38;2;248;248;242;48;2;39;40;34m(\u001b[0m\u001b[38;2;230;219;116;48;2;39;40;34mf\u001b[0m\u001b[38;2;230;219;116;48;2;39;40;34m\"\u001b[0m\u001b[38;2;230;219;116;48;2;39;40;34mKipchoge\u001b[0m\u001b[38;2;230;219;116;48;2;39;40;34m'\u001b[0m\u001b[38;2;230;219;116;48;2;39;40;34ms marathon pace: \u001b[0m\u001b[38;2;230;219;116;48;2;39;40;34m{\u001b[0m\u001b[38;2;248;248;242;48;2;39;40;34mkipchoge_pace\u001b[0m\u001b[38;2;230;219;116;48;2;39;40;34m}\u001b[0m\u001b[38;2;230;219;116;48;2;39;40;34m\"\u001b[0m\u001b[38;2;248;248;242;48;2;39;40;34m)\u001b[0m\u001b[48;2;39;40;34m                                                            \u001b[0m  \n",
       "  \u001b[38;2;248;248;242;48;2;39;40;34mprint\u001b[0m\u001b[38;2;248;248;242;48;2;39;40;34m(\u001b[0m\u001b[38;2;230;219;116;48;2;39;40;34mf\u001b[0m\u001b[38;2;230;219;116;48;2;39;40;34m\"\u001b[0m\u001b[38;2;230;219;116;48;2;39;40;34mMoon perigee distance: \u001b[0m\u001b[38;2;230;219;116;48;2;39;40;34m{\u001b[0m\u001b[38;2;248;248;242;48;2;39;40;34mmoon_perigee\u001b[0m\u001b[38;2;230;219;116;48;2;39;40;34m}\u001b[0m\u001b[38;2;230;219;116;48;2;39;40;34m\"\u001b[0m\u001b[38;2;248;248;242;48;2;39;40;34m)\u001b[0m\u001b[48;2;39;40;34m                                                                \u001b[0m  \n",
       " ───────────────────────────────────────────────────────────────────────────────────────────────────────────────── \n"
      ]
     },
     "metadata": {},
     "output_type": "display_data"
    },
    {
     "data": {
      "text/html": [
       "<pre style=\"white-space:pre;overflow-x:auto;line-height:normal;font-family:Menlo,'DejaVu Sans Mono',consolas,'Courier New',monospace\"><span style=\"color: #800000; text-decoration-color: #800000; font-weight: bold\">Code execution failed at line </span><span style=\"color: #008000; text-decoration-color: #008000\">'kipchoge_pace = web_search(\"Eliud Kipchoge marathon record\")'</span><span style=\"color: #800000; text-decoration-color: #800000; font-weight: bold\"> due to: </span>\n",
       "<span style=\"color: #800000; text-decoration-color: #800000; font-weight: bold\">DuckDuckGoSearchException: </span><span style=\"color: #0000ff; text-decoration-color: #0000ff; text-decoration: underline\">https://html.duckduckgo.com/html</span><span style=\"color: #800000; text-decoration-color: #800000; font-weight: bold\"> </span><span style=\"color: #008080; text-decoration-color: #008080; font-weight: bold\">202</span><span style=\"color: #800000; text-decoration-color: #800000; font-weight: bold\"> Ratelimit</span>\n",
       "</pre>\n"
      ],
      "text/plain": [
       "\u001b[1;31mCode execution failed at line \u001b[0m\u001b[32m'kipchoge_pace = web_search\u001b[0m\u001b[32m(\u001b[0m\u001b[32m\"Eliud Kipchoge marathon record\"\u001b[0m\u001b[32m)\u001b[0m\u001b[32m'\u001b[0m\u001b[1;31m due to: \u001b[0m\n",
       "\u001b[1;31mDuckDuckGoSearchException: \u001b[0m\u001b[4;94mhttps://html.duckduckgo.com/html\u001b[0m\u001b[1;31m \u001b[0m\u001b[1;36m202\u001b[0m\u001b[1;31m Ratelimit\u001b[0m\n"
      ]
     },
     "metadata": {},
     "output_type": "display_data"
    },
    {
     "data": {
      "text/html": [
       "<pre style=\"white-space:pre;overflow-x:auto;line-height:normal;font-family:Menlo,'DejaVu Sans Mono',consolas,'Courier New',monospace\"><span style=\"color: #7f7f7f; text-decoration-color: #7f7f7f\">[Step 1: Duration 66.60 seconds| Input tokens: 2,184 | Output tokens: 124]</span>\n",
       "</pre>\n"
      ],
      "text/plain": [
       "\u001b[2m[Step 1: Duration 66.60 seconds| Input tokens: 2,184 | Output tokens: 124]\u001b[0m\n"
      ]
     },
     "metadata": {},
     "output_type": "display_data"
    },
    {
     "data": {
      "text/html": [
       "<pre style=\"white-space:pre;overflow-x:auto;line-height:normal;font-family:Menlo,'DejaVu Sans Mono',consolas,'Courier New',monospace\"><span style=\"color: #d4b702; text-decoration-color: #d4b702\">━━━━━━━━━━━━━━━━━━━━━━━━━━━━━━━━━━━━━━━━━━━━━━━━━━━━━ </span><span style=\"font-weight: bold\">Step </span><span style=\"color: #008080; text-decoration-color: #008080; font-weight: bold\">2</span><span style=\"color: #d4b702; text-decoration-color: #d4b702\"> ━━━━━━━━━━━━━━━━━━━━━━━━━━━━━━━━━━━━━━━━━━━━━━━━━━━━━━</span>\n",
       "</pre>\n"
      ],
      "text/plain": [
       "\u001b[38;2;212;183;2m━━━━━━━━━━━━━━━━━━━━━━━━━━━━━━━━━━━━━━━━━━━━━━━━━━━━━ \u001b[0m\u001b[1mStep \u001b[0m\u001b[1;36m2\u001b[0m\u001b[38;2;212;183;2m ━━━━━━━━━━━━━━━━━━━━━━━━━━━━━━━━━━━━━━━━━━━━━━━━━━━━━━\u001b[0m\n"
      ]
     },
     "metadata": {},
     "output_type": "display_data"
    },
    {
     "data": {
      "text/html": [
       "<pre style=\"white-space:pre;overflow-x:auto;line-height:normal;font-family:Menlo,'DejaVu Sans Mono',consolas,'Courier New',monospace\"> ─ <span style=\"font-weight: bold\">Executing parsed code:</span> ──────────────────────────────────────────────────────────────────────────────────────── \n",
       "  <span style=\"color: #f8f8f2; text-decoration-color: #f8f8f2; background-color: #272822\">kipchoge_record_time </span><span style=\"color: #ff4689; text-decoration-color: #ff4689; background-color: #272822\">=</span><span style=\"color: #f8f8f2; text-decoration-color: #f8f8f2; background-color: #272822\"> web_search(</span><span style=\"color: #e6db74; text-decoration-color: #e6db74; background-color: #272822\">\"Eliud Kipchoge Berlin Marathon 2018 record time\"</span><span style=\"color: #f8f8f2; text-decoration-color: #f8f8f2; background-color: #272822\">)</span><span style=\"background-color: #272822\">                           </span>  \n",
       "  <span style=\"color: #f8f8f2; text-decoration-color: #f8f8f2; background-color: #272822\">moon_perigee_distance </span><span style=\"color: #ff4689; text-decoration-color: #ff4689; background-color: #272822\">=</span><span style=\"color: #f8f8f2; text-decoration-color: #f8f8f2; background-color: #272822\"> web_search(</span><span style=\"color: #e6db74; text-decoration-color: #e6db74; background-color: #272822\">\"Moon closest approach to Earth perigee distance\"</span><span style=\"color: #f8f8f2; text-decoration-color: #f8f8f2; background-color: #272822\">)</span><span style=\"background-color: #272822\">                          </span>  \n",
       "  <span style=\"color: #f8f8f2; text-decoration-color: #f8f8f2; background-color: #272822\">print(</span><span style=\"color: #e6db74; text-decoration-color: #e6db74; background-color: #272822\">f\"Kipchoge's record marathon time: {</span><span style=\"color: #f8f8f2; text-decoration-color: #f8f8f2; background-color: #272822\">kipchoge_record_time</span><span style=\"color: #e6db74; text-decoration-color: #e6db74; background-color: #272822\">}\"</span><span style=\"color: #f8f8f2; text-decoration-color: #f8f8f2; background-color: #272822\">)</span><span style=\"background-color: #272822\">                                              </span>  \n",
       "  <span style=\"color: #f8f8f2; text-decoration-color: #f8f8f2; background-color: #272822\">print(</span><span style=\"color: #e6db74; text-decoration-color: #e6db74; background-color: #272822\">f\"Moon perigee distance: {</span><span style=\"color: #f8f8f2; text-decoration-color: #f8f8f2; background-color: #272822\">moon_perigee_distance</span><span style=\"color: #e6db74; text-decoration-color: #e6db74; background-color: #272822\">}\"</span><span style=\"color: #f8f8f2; text-decoration-color: #f8f8f2; background-color: #272822\">)</span><span style=\"background-color: #272822\">                                                       </span>  \n",
       " ───────────────────────────────────────────────────────────────────────────────────────────────────────────────── \n",
       "</pre>\n"
      ],
      "text/plain": [
       " ─ \u001b[1mExecuting parsed code:\u001b[0m ──────────────────────────────────────────────────────────────────────────────────────── \n",
       "  \u001b[38;2;248;248;242;48;2;39;40;34mkipchoge_record_time\u001b[0m\u001b[38;2;248;248;242;48;2;39;40;34m \u001b[0m\u001b[38;2;255;70;137;48;2;39;40;34m=\u001b[0m\u001b[38;2;248;248;242;48;2;39;40;34m \u001b[0m\u001b[38;2;248;248;242;48;2;39;40;34mweb_search\u001b[0m\u001b[38;2;248;248;242;48;2;39;40;34m(\u001b[0m\u001b[38;2;230;219;116;48;2;39;40;34m\"\u001b[0m\u001b[38;2;230;219;116;48;2;39;40;34mEliud Kipchoge Berlin Marathon 2018 record time\u001b[0m\u001b[38;2;230;219;116;48;2;39;40;34m\"\u001b[0m\u001b[38;2;248;248;242;48;2;39;40;34m)\u001b[0m\u001b[48;2;39;40;34m                           \u001b[0m  \n",
       "  \u001b[38;2;248;248;242;48;2;39;40;34mmoon_perigee_distance\u001b[0m\u001b[38;2;248;248;242;48;2;39;40;34m \u001b[0m\u001b[38;2;255;70;137;48;2;39;40;34m=\u001b[0m\u001b[38;2;248;248;242;48;2;39;40;34m \u001b[0m\u001b[38;2;248;248;242;48;2;39;40;34mweb_search\u001b[0m\u001b[38;2;248;248;242;48;2;39;40;34m(\u001b[0m\u001b[38;2;230;219;116;48;2;39;40;34m\"\u001b[0m\u001b[38;2;230;219;116;48;2;39;40;34mMoon closest approach to Earth perigee distance\u001b[0m\u001b[38;2;230;219;116;48;2;39;40;34m\"\u001b[0m\u001b[38;2;248;248;242;48;2;39;40;34m)\u001b[0m\u001b[48;2;39;40;34m                          \u001b[0m  \n",
       "  \u001b[38;2;248;248;242;48;2;39;40;34mprint\u001b[0m\u001b[38;2;248;248;242;48;2;39;40;34m(\u001b[0m\u001b[38;2;230;219;116;48;2;39;40;34mf\u001b[0m\u001b[38;2;230;219;116;48;2;39;40;34m\"\u001b[0m\u001b[38;2;230;219;116;48;2;39;40;34mKipchoge\u001b[0m\u001b[38;2;230;219;116;48;2;39;40;34m'\u001b[0m\u001b[38;2;230;219;116;48;2;39;40;34ms record marathon time: \u001b[0m\u001b[38;2;230;219;116;48;2;39;40;34m{\u001b[0m\u001b[38;2;248;248;242;48;2;39;40;34mkipchoge_record_time\u001b[0m\u001b[38;2;230;219;116;48;2;39;40;34m}\u001b[0m\u001b[38;2;230;219;116;48;2;39;40;34m\"\u001b[0m\u001b[38;2;248;248;242;48;2;39;40;34m)\u001b[0m\u001b[48;2;39;40;34m                                              \u001b[0m  \n",
       "  \u001b[38;2;248;248;242;48;2;39;40;34mprint\u001b[0m\u001b[38;2;248;248;242;48;2;39;40;34m(\u001b[0m\u001b[38;2;230;219;116;48;2;39;40;34mf\u001b[0m\u001b[38;2;230;219;116;48;2;39;40;34m\"\u001b[0m\u001b[38;2;230;219;116;48;2;39;40;34mMoon perigee distance: \u001b[0m\u001b[38;2;230;219;116;48;2;39;40;34m{\u001b[0m\u001b[38;2;248;248;242;48;2;39;40;34mmoon_perigee_distance\u001b[0m\u001b[38;2;230;219;116;48;2;39;40;34m}\u001b[0m\u001b[38;2;230;219;116;48;2;39;40;34m\"\u001b[0m\u001b[38;2;248;248;242;48;2;39;40;34m)\u001b[0m\u001b[48;2;39;40;34m                                                       \u001b[0m  \n",
       " ───────────────────────────────────────────────────────────────────────────────────────────────────────────────── \n"
      ]
     },
     "metadata": {},
     "output_type": "display_data"
    },
    {
     "data": {
      "text/html": [
       "<pre style=\"white-space:pre;overflow-x:auto;line-height:normal;font-family:Menlo,'DejaVu Sans Mono',consolas,'Courier New',monospace\"><span style=\"font-weight: bold\">Execution logs:</span>\n",
       "Kipchoge's record marathon time: ## Search Results\n",
       "\n",
       "[2018 Berlin Marathon - Wikipedia](https://en.wikipedia.org/wiki/2018_Berlin_Marathon)\n",
       "The 2018 Berlin Marathon was the 45th edition of the Berlin Marathon.The marathon took place in Berlin, Germany, on\n",
       "16 September 2018 and was the fourth World Marathon Majors race of the year. The men's race was won by Eliud \n",
       "Kipchoge, who set a new world record time of 2:01:39. [1] [2] The women's race was won by Gladys Cherono in a time \n",
       "of 2:18:11.\n",
       "\n",
       "[Kipchoge breaks marathon world record in Berlin with stunning \n",
       "2:01:39](https://worldathletics.org/news/report/berlin-marathon-2018-eliud-kipchoge-world-rec)\n",
       "In a stunning display of distance running, Olympic champion Eliud Kipchoge broke the world record* at the BMW \n",
       "Berlin Marathon on Sunday (16), winning the IAAF Gold Label road race in 2:01:39. Compatriot Gladys Cherono, \n",
       "meanwhile, secured her third Berlin Marathon crown, smashing the course record.\n",
       "\n",
       "[Eliud Kipchoge Breaks Marathon World Record at Berlin \n",
       "Marathon](https://www.runnersworld.com/news/a23244541/berlin-marathon-world-record/)\n",
       "With two hours of total marathon mastery, Eliud Kipchoge smashed the world record in Berlin today with 2:01:39, a \n",
       "new world mark by 1 minute 18 seconds. Without question, Kipchoge sealed his place ...\n",
       "\n",
       "[The Greatest Ever - 2:01:39 - Eliud Kipchoge Crushes World Record to \n",
       "...](https://www.letsrun.com/news/2018/09/greatest-ever-20139-eliud-kipchoge-crushes-world-record-win-2018-berlin-m\n",
       "arathon/)\n",
       "In an astonishing performance at the 2018 BMW Berlin Marathon, Kipchoge took marathoning into a new stratosphere by\n",
       "clocking 2:01:39 — the first man ever under 2:02, and a full 78 seconds faster ...\n",
       "\n",
       "[Kipchoge shatters world record](https://www.worldmarathonmajors.com/content-hub/kipchoge-shatters-world-record)\n",
       "If he wasn't already the greatest, Eliud Kipchoge made it officialat the 2018 BMW BERLIN-MARATHON as he smashed the\n",
       "world record with a time of 2:01:39. The Kenyan, already a three-time AbbottWMM Series champion and defending \n",
       "Berlin champion, set out with three pacemakers at an unrelenting tempo, passing through halfway in 61:06, just a \n",
       "slither ...\n",
       "\n",
       "[Eliud Kipchoge smashes marathon record in Berlin as four other runners \n",
       "...](https://www.guinnessworldrecords.com/news/2018/9/eliud-kipchoge-smashes-marathon-record-in-berlin-as-four-othe\n",
       "r-runners-post-recor-540890)\n",
       "Kenyan runner Eliud Kipchoge has made history after setting a new fastest marathon time of 2 hours 1 minute and 39 \n",
       "seconds at the BMW Berlin Marathon. The 33-year-old shaved more than a minute off of the previous marathon world \n",
       "record of 2:02:57 which was set by fellow Kenyan Dennis Kimetto four years ago, also in Berlin.\n",
       "\n",
       "[2018 - Eliud Kipchoge - Marathon Shoe History](https://www.marathonshoehistory.com/2018-eliud-kipchoge/)\n",
       "World Record Duration: 4 years, 9 days. The athlete: It cannot be understated how high expectations were for Eliud \n",
       "Kipchoge coming into the 2018 Berlin Marathon. Since his marathon debut in 2013, where he won the Hamburg Marathon \n",
       "in 2:05:30, he had quickly established himself as someone to watch.\n",
       "\n",
       "[Eliud Kipchoge breaks marathon world record in \n",
       "Berlin](https://www.nbcsports.com/olympics/news/eliud-kipchoge-berlin-marathon-world-record)\n",
       "Kenyan Eliud Kipchoge broke his own world record in winning the Berlin Marathon, clocking 2:01:09 to lower the \n",
       "previous record time of 2:01:39 he set in the German capital in 2018.. Kipchoge, 37 and a two-time Olympic \n",
       "champion, earned his 15th win in 17 career marathons to bolster his claim as the greatest runner in history over \n",
       "26.2 miles.\n",
       "\n",
       "[AbbottWMM - 2018 BERLIN-MARATHON Race Recap](https://www.marathon.tokyo/en/news/detail/news_001119.html)\n",
       "If he wasn't already the greatest, Eliud Kipchoge made it official at the 2018 BMW BERLIN-MARATHON as he smashed \n",
       "the world record with a time of 2:01:39. The Kenyan, already a three-time AbbottWMM Series champion and defending \n",
       "Berlin champion, set out with three pacemakers at an unrelenting tempo, passing through halfway in 61:06, just a \n",
       "...\n",
       "\n",
       "[How Eliud Kipchoge smashed the marathon world record - \n",
       "CNN](https://www.cnn.com/2018/09/17/sport/eliud-kipchoge-marathon-world-record-spt-intl)\n",
       "Kenyan Eliud Kipchoge set an astonishing new marathon world record on Sunday, running two hours, one minute and 39 \n",
       "seconds in Berlin. In fact, the 33-year-old smashed the previous record, set 14 ...\n",
       "Moon perigee distance: ## Search Results\n",
       "\n",
       "[Moon Distance Calculator - How Close is Moon to Earth? - \n",
       "timeanddate.com](https://www.timeanddate.com/astronomy/moon/distance.html)\n",
       "The Moon Distance Calculator calculates the approximate minumum and maximum distances from the Moon to the Earth. \n",
       "The Moon's distance to Earth varies. ... Closest Approach (Perigee) is highlighted. Furthest Apart (Apogee) Date \n",
       "Local Time Distance in km Distance in miles; Jan 20: 11:55 pm: 404,298 km: 251,219 mi: Feb 17: 8:08 pm:\n",
       "\n",
       "[Lunar perigee 2025: When is the next one? - Space &amp; Telescope](https://spaceandtelescope.com/lunar-perigee-2025/)\n",
       "Moon phase: During the perigee, the moon will be in the waning crescent phase and 2% illuminated. When is the moon \n",
       "closest to Earth in 2025? The moon will be closest to Earth on November 5, 2025, at 22:29 UTC, when it will be \n",
       "356,833 km away. This will be the shortest distance between the Earth and the moon in 2025.\n",
       "\n",
       "[When Is the Moon Closest to the Earth? - The Environmental Literacy \n",
       "Council](https://enviroliteracy.org/when-is-the-moon-closest-to-the-earth/)\n",
       "This configuration results in the Moon having a point of closest approach, known as perigee, and a point of \n",
       "farthest recession, known as apogee. ... Perigee: This is the point in the Moon's orbit when it is closest to \n",
       "Earth. At perigee, the distance between the two celestial bodies is at its minimum, approximately 363,104 \n",
       "kilometers (225,623 ...\n",
       "\n",
       "[Moon Distances 2025 - How far is the moon from Earth? - Full Moon \n",
       "Phase](https://www.fullmoonphase.com/moon-distance)\n",
       "Moon Distances from Earth - 2025. According to Nasa the average distance between the Earth and the Moon is \n",
       "approximately 384,400 kilometers (238,855 miles), however this varies by around 50,000 km each month owing to the \n",
       "Moon's eleptical orbit. ... Moon distance table - Closest approach (Perigee) Date Time Distance (Km) Distance \n",
       "(miles) 8th Jan ...\n",
       "\n",
       "[Full Moon at Perigee (Full Supermoon): 2001 to 2100 - \n",
       "AstroPixels](http://astropixels.com/ephemeris/moon/fullperigee2001.html)\n",
       "As a result, the Moon's distance from Earth (center-to-center) varies with mean values of 363,396 km at perigee \n",
       "(closest) to 405,504 km at apogee (most distant). When either the New Moon or Full Moon phase occurs near perigee \n",
       "(within 90% of its closest approach to Earth in a given orbit), the Moon subtends its largest apparent diameter as \n",
       "...\n",
       "\n",
       "[How many miles from the earth to the moon at apogee and perigee \n",
       "...](https://www.answers.com/natural-sciences/How_many_miles_from_the_earth_to_the_moon_at_apogee_and_perigee)\n",
       "At perigee - its closest approach - the moon comes as close as 225,623 miles (363,104 kilometers). At apogee - the \n",
       "farthest away it gets - the moon is 252,088 miles (405,696 km) from Earth.\n",
       "\n",
       "[The Moon at perigee - In-The-Sky.org](https://in-the-sky.org/news.php?id=20211105_08_100)\n",
       "The Moon's distance from the Earth varies because its orbit is not perfectly circular - it is slightly oval-shaped,\n",
       "tracing out a path called an ellipse. As the Moon traverses this elliptical path around the Earth each month, its \n",
       "distance varies by 14%, between 356,500 km at perigee (closest approach to the Earth) and 406,700 km at apogee ...\n",
       "\n",
       "[Moon's Closest Approach To Earth: Understanding Lunar \n",
       "Perigee](https://shunspirit.com/article/where-is-the-moon-closest-to-earth)\n",
       "Learn about the Moon's closest approach to Earth, known as lunar perigee. Understand the science and enjoy the \n",
       "spectacular view of the supermoon. 525 Main St, Worcester, MA 01608 ... occur several times a year, but they stand \n",
       "out more when the full moon closely aligns with the perigee. The exact distance of the perigee can vary due to the \n",
       "Moon ...\n",
       "\n",
       "[Supermoon: what is it and when is the next one? - Space.com](https://www.space.com/38940-supermoon-facts.html)\n",
       "It has an average distance of 238,000 miles (382,900 km) from Earth, but its apogee and perigee — the closest and \n",
       "farthest approaches from Earth — change every lunar month.\n",
       "\n",
       "[Lunar Perigee and Apogee - timeanddate.com](https://www.timeanddate.com/astronomy/moon/lunar-perigee-apogee.html)\n",
       "As a result, the distance between the Moon and Earth varies throughout the month and the year. On average, the \n",
       "distance is about 382,900 kilometers (238,000 miles) from the Moon's center to the center of Earth. The point on \n",
       "the Moon's orbit closest to Earth is called the perigee and the point farthest away is the apogee.\n",
       "\n",
       "Out: None\n",
       "</pre>\n"
      ],
      "text/plain": [
       "\u001b[1mExecution logs:\u001b[0m\n",
       "Kipchoge's record marathon time: ## Search Results\n",
       "\n",
       "[2018 Berlin Marathon - Wikipedia](https://en.wikipedia.org/wiki/2018_Berlin_Marathon)\n",
       "The 2018 Berlin Marathon was the 45th edition of the Berlin Marathon.The marathon took place in Berlin, Germany, on\n",
       "16 September 2018 and was the fourth World Marathon Majors race of the year. The men's race was won by Eliud \n",
       "Kipchoge, who set a new world record time of 2:01:39. [1] [2] The women's race was won by Gladys Cherono in a time \n",
       "of 2:18:11.\n",
       "\n",
       "[Kipchoge breaks marathon world record in Berlin with stunning \n",
       "2:01:39](https://worldathletics.org/news/report/berlin-marathon-2018-eliud-kipchoge-world-rec)\n",
       "In a stunning display of distance running, Olympic champion Eliud Kipchoge broke the world record* at the BMW \n",
       "Berlin Marathon on Sunday (16), winning the IAAF Gold Label road race in 2:01:39. Compatriot Gladys Cherono, \n",
       "meanwhile, secured her third Berlin Marathon crown, smashing the course record.\n",
       "\n",
       "[Eliud Kipchoge Breaks Marathon World Record at Berlin \n",
       "Marathon](https://www.runnersworld.com/news/a23244541/berlin-marathon-world-record/)\n",
       "With two hours of total marathon mastery, Eliud Kipchoge smashed the world record in Berlin today with 2:01:39, a \n",
       "new world mark by 1 minute 18 seconds. Without question, Kipchoge sealed his place ...\n",
       "\n",
       "[The Greatest Ever - 2:01:39 - Eliud Kipchoge Crushes World Record to \n",
       "...](https://www.letsrun.com/news/2018/09/greatest-ever-20139-eliud-kipchoge-crushes-world-record-win-2018-berlin-m\n",
       "arathon/)\n",
       "In an astonishing performance at the 2018 BMW Berlin Marathon, Kipchoge took marathoning into a new stratosphere by\n",
       "clocking 2:01:39 — the first man ever under 2:02, and a full 78 seconds faster ...\n",
       "\n",
       "[Kipchoge shatters world record](https://www.worldmarathonmajors.com/content-hub/kipchoge-shatters-world-record)\n",
       "If he wasn't already the greatest, Eliud Kipchoge made it officialat the 2018 BMW BERLIN-MARATHON as he smashed the\n",
       "world record with a time of 2:01:39. The Kenyan, already a three-time AbbottWMM Series champion and defending \n",
       "Berlin champion, set out with three pacemakers at an unrelenting tempo, passing through halfway in 61:06, just a \n",
       "slither ...\n",
       "\n",
       "[Eliud Kipchoge smashes marathon record in Berlin as four other runners \n",
       "...](https://www.guinnessworldrecords.com/news/2018/9/eliud-kipchoge-smashes-marathon-record-in-berlin-as-four-othe\n",
       "r-runners-post-recor-540890)\n",
       "Kenyan runner Eliud Kipchoge has made history after setting a new fastest marathon time of 2 hours 1 minute and 39 \n",
       "seconds at the BMW Berlin Marathon. The 33-year-old shaved more than a minute off of the previous marathon world \n",
       "record of 2:02:57 which was set by fellow Kenyan Dennis Kimetto four years ago, also in Berlin.\n",
       "\n",
       "[2018 - Eliud Kipchoge - Marathon Shoe History](https://www.marathonshoehistory.com/2018-eliud-kipchoge/)\n",
       "World Record Duration: 4 years, 9 days. The athlete: It cannot be understated how high expectations were for Eliud \n",
       "Kipchoge coming into the 2018 Berlin Marathon. Since his marathon debut in 2013, where he won the Hamburg Marathon \n",
       "in 2:05:30, he had quickly established himself as someone to watch.\n",
       "\n",
       "[Eliud Kipchoge breaks marathon world record in \n",
       "Berlin](https://www.nbcsports.com/olympics/news/eliud-kipchoge-berlin-marathon-world-record)\n",
       "Kenyan Eliud Kipchoge broke his own world record in winning the Berlin Marathon, clocking 2:01:09 to lower the \n",
       "previous record time of 2:01:39 he set in the German capital in 2018.. Kipchoge, 37 and a two-time Olympic \n",
       "champion, earned his 15th win in 17 career marathons to bolster his claim as the greatest runner in history over \n",
       "26.2 miles.\n",
       "\n",
       "[AbbottWMM - 2018 BERLIN-MARATHON Race Recap](https://www.marathon.tokyo/en/news/detail/news_001119.html)\n",
       "If he wasn't already the greatest, Eliud Kipchoge made it official at the 2018 BMW BERLIN-MARATHON as he smashed \n",
       "the world record with a time of 2:01:39. The Kenyan, already a three-time AbbottWMM Series champion and defending \n",
       "Berlin champion, set out with three pacemakers at an unrelenting tempo, passing through halfway in 61:06, just a \n",
       "...\n",
       "\n",
       "[How Eliud Kipchoge smashed the marathon world record - \n",
       "CNN](https://www.cnn.com/2018/09/17/sport/eliud-kipchoge-marathon-world-record-spt-intl)\n",
       "Kenyan Eliud Kipchoge set an astonishing new marathon world record on Sunday, running two hours, one minute and 39 \n",
       "seconds in Berlin. In fact, the 33-year-old smashed the previous record, set 14 ...\n",
       "Moon perigee distance: ## Search Results\n",
       "\n",
       "[Moon Distance Calculator - How Close is Moon to Earth? - \n",
       "timeanddate.com](https://www.timeanddate.com/astronomy/moon/distance.html)\n",
       "The Moon Distance Calculator calculates the approximate minumum and maximum distances from the Moon to the Earth. \n",
       "The Moon's distance to Earth varies. ... Closest Approach (Perigee) is highlighted. Furthest Apart (Apogee) Date \n",
       "Local Time Distance in km Distance in miles; Jan 20: 11:55 pm: 404,298 km: 251,219 mi: Feb 17: 8:08 pm:\n",
       "\n",
       "[Lunar perigee 2025: When is the next one? - Space & Telescope](https://spaceandtelescope.com/lunar-perigee-2025/)\n",
       "Moon phase: During the perigee, the moon will be in the waning crescent phase and 2% illuminated. When is the moon \n",
       "closest to Earth in 2025? The moon will be closest to Earth on November 5, 2025, at 22:29 UTC, when it will be \n",
       "356,833 km away. This will be the shortest distance between the Earth and the moon in 2025.\n",
       "\n",
       "[When Is the Moon Closest to the Earth? - The Environmental Literacy \n",
       "Council](https://enviroliteracy.org/when-is-the-moon-closest-to-the-earth/)\n",
       "This configuration results in the Moon having a point of closest approach, known as perigee, and a point of \n",
       "farthest recession, known as apogee. ... Perigee: This is the point in the Moon's orbit when it is closest to \n",
       "Earth. At perigee, the distance between the two celestial bodies is at its minimum, approximately 363,104 \n",
       "kilometers (225,623 ...\n",
       "\n",
       "[Moon Distances 2025 - How far is the moon from Earth? - Full Moon \n",
       "Phase](https://www.fullmoonphase.com/moon-distance)\n",
       "Moon Distances from Earth - 2025. According to Nasa the average distance between the Earth and the Moon is \n",
       "approximately 384,400 kilometers (238,855 miles), however this varies by around 50,000 km each month owing to the \n",
       "Moon's eleptical orbit. ... Moon distance table - Closest approach (Perigee) Date Time Distance (Km) Distance \n",
       "(miles) 8th Jan ...\n",
       "\n",
       "[Full Moon at Perigee (Full Supermoon): 2001 to 2100 - \n",
       "AstroPixels](http://astropixels.com/ephemeris/moon/fullperigee2001.html)\n",
       "As a result, the Moon's distance from Earth (center-to-center) varies with mean values of 363,396 km at perigee \n",
       "(closest) to 405,504 km at apogee (most distant). When either the New Moon or Full Moon phase occurs near perigee \n",
       "(within 90% of its closest approach to Earth in a given orbit), the Moon subtends its largest apparent diameter as \n",
       "...\n",
       "\n",
       "[How many miles from the earth to the moon at apogee and perigee \n",
       "...](https://www.answers.com/natural-sciences/How_many_miles_from_the_earth_to_the_moon_at_apogee_and_perigee)\n",
       "At perigee - its closest approach - the moon comes as close as 225,623 miles (363,104 kilometers). At apogee - the \n",
       "farthest away it gets - the moon is 252,088 miles (405,696 km) from Earth.\n",
       "\n",
       "[The Moon at perigee - In-The-Sky.org](https://in-the-sky.org/news.php?id=20211105_08_100)\n",
       "The Moon's distance from the Earth varies because its orbit is not perfectly circular - it is slightly oval-shaped,\n",
       "tracing out a path called an ellipse. As the Moon traverses this elliptical path around the Earth each month, its \n",
       "distance varies by 14%, between 356,500 km at perigee (closest approach to the Earth) and 406,700 km at apogee ...\n",
       "\n",
       "[Moon's Closest Approach To Earth: Understanding Lunar \n",
       "Perigee](https://shunspirit.com/article/where-is-the-moon-closest-to-earth)\n",
       "Learn about the Moon's closest approach to Earth, known as lunar perigee. Understand the science and enjoy the \n",
       "spectacular view of the supermoon. 525 Main St, Worcester, MA 01608 ... occur several times a year, but they stand \n",
       "out more when the full moon closely aligns with the perigee. The exact distance of the perigee can vary due to the \n",
       "Moon ...\n",
       "\n",
       "[Supermoon: what is it and when is the next one? - Space.com](https://www.space.com/38940-supermoon-facts.html)\n",
       "It has an average distance of 238,000 miles (382,900 km) from Earth, but its apogee and perigee — the closest and \n",
       "farthest approaches from Earth — change every lunar month.\n",
       "\n",
       "[Lunar Perigee and Apogee - timeanddate.com](https://www.timeanddate.com/astronomy/moon/lunar-perigee-apogee.html)\n",
       "As a result, the distance between the Moon and Earth varies throughout the month and the year. On average, the \n",
       "distance is about 382,900 kilometers (238,000 miles) from the Moon's center to the center of Earth. The point on \n",
       "the Moon's orbit closest to Earth is called the perigee and the point farthest away is the apogee.\n",
       "\n",
       "Out: None\n"
      ]
     },
     "metadata": {},
     "output_type": "display_data"
    },
    {
     "data": {
      "text/html": [
       "<pre style=\"white-space:pre;overflow-x:auto;line-height:normal;font-family:Menlo,'DejaVu Sans Mono',consolas,'Courier New',monospace\"><span style=\"color: #7f7f7f; text-decoration-color: #7f7f7f\">[Step 2: Duration 7.72 seconds| Input tokens: 4,699 | Output tokens: 265]</span>\n",
       "</pre>\n"
      ],
      "text/plain": [
       "\u001b[2m[Step 2: Duration 7.72 seconds| Input tokens: 4,699 | Output tokens: 265]\u001b[0m\n"
      ]
     },
     "metadata": {},
     "output_type": "display_data"
    },
    {
     "data": {
      "text/html": [
       "<pre style=\"white-space:pre;overflow-x:auto;line-height:normal;font-family:Menlo,'DejaVu Sans Mono',consolas,'Courier New',monospace\"><span style=\"color: #d4b702; text-decoration-color: #d4b702\">━━━━━━━━━━━━━━━━━━━━━━━━━━━━━━━━━━━━━━━━━━━━━━━━━━━━━ </span><span style=\"font-weight: bold\">Step </span><span style=\"color: #008080; text-decoration-color: #008080; font-weight: bold\">3</span><span style=\"color: #d4b702; text-decoration-color: #d4b702\"> ━━━━━━━━━━━━━━━━━━━━━━━━━━━━━━━━━━━━━━━━━━━━━━━━━━━━━━</span>\n",
       "</pre>\n"
      ],
      "text/plain": [
       "\u001b[38;2;212;183;2m━━━━━━━━━━━━━━━━━━━━━━━━━━━━━━━━━━━━━━━━━━━━━━━━━━━━━ \u001b[0m\u001b[1mStep \u001b[0m\u001b[1;36m3\u001b[0m\u001b[38;2;212;183;2m ━━━━━━━━━━━━━━━━━━━━━━━━━━━━━━━━━━━━━━━━━━━━━━━━━━━━━━\u001b[0m\n"
      ]
     },
     "metadata": {},
     "output_type": "display_data"
    },
    {
     "data": {
      "text/html": [
       "<pre style=\"white-space:pre;overflow-x:auto;line-height:normal;font-family:Menlo,'DejaVu Sans Mono',consolas,'Courier New',monospace\"> ─ <span style=\"font-weight: bold\">Executing parsed code:</span> ──────────────────────────────────────────────────────────────────────────────────────── \n",
       "  <span style=\"color: #959077; text-decoration-color: #959077; background-color: #272822\"># Extracting relevant data</span><span style=\"background-color: #272822\">                                                                                     </span>  \n",
       "  <span style=\"color: #f8f8f2; text-decoration-color: #f8f8f2; background-color: #272822\">record_time_str </span><span style=\"color: #ff4689; text-decoration-color: #ff4689; background-color: #272822\">=</span><span style=\"color: #f8f8f2; text-decoration-color: #f8f8f2; background-color: #272822\"> </span><span style=\"color: #e6db74; text-decoration-color: #e6db74; background-color: #272822\">\"2:01:39\"</span><span style=\"color: #f8f8f2; text-decoration-color: #f8f8f2; background-color: #272822\">  </span><span style=\"color: #959077; text-decoration-color: #959077; background-color: #272822\"># format HH:MM:SS</span><span style=\"background-color: #272822\">                                                                 </span>  \n",
       "  <span style=\"background-color: #272822\">                                                                                                               </span>  \n",
       "  <span style=\"color: #959077; text-decoration-color: #959077; background-color: #272822\"># Splitting the time string into hours, minutes, and seconds</span><span style=\"background-color: #272822\">                                                   </span>  \n",
       "  <span style=\"color: #f8f8f2; text-decoration-color: #f8f8f2; background-color: #272822\">hours, minutes, seconds </span><span style=\"color: #ff4689; text-decoration-color: #ff4689; background-color: #272822\">=</span><span style=\"color: #f8f8f2; text-decoration-color: #f8f8f2; background-color: #272822\"> map(int, record_time_str</span><span style=\"color: #ff4689; text-decoration-color: #ff4689; background-color: #272822\">.</span><span style=\"color: #f8f8f2; text-decoration-color: #f8f8f2; background-color: #272822\">split(</span><span style=\"color: #e6db74; text-decoration-color: #e6db74; background-color: #272822\">':'</span><span style=\"color: #f8f8f2; text-decoration-color: #f8f8f2; background-color: #272822\">))</span><span style=\"background-color: #272822\">                                                 </span>  \n",
       "  <span style=\"background-color: #272822\">                                                                                                               </span>  \n",
       "  <span style=\"color: #959077; text-decoration-color: #959077; background-color: #272822\"># Converting the marathon time to total seconds</span><span style=\"background-color: #272822\">                                                                </span>  \n",
       "  <span style=\"color: #f8f8f2; text-decoration-color: #f8f8f2; background-color: #272822\">total_seconds </span><span style=\"color: #ff4689; text-decoration-color: #ff4689; background-color: #272822\">=</span><span style=\"color: #f8f8f2; text-decoration-color: #f8f8f2; background-color: #272822\"> hours </span><span style=\"color: #ff4689; text-decoration-color: #ff4689; background-color: #272822\">*</span><span style=\"color: #f8f8f2; text-decoration-color: #f8f8f2; background-color: #272822\"> </span><span style=\"color: #ae81ff; text-decoration-color: #ae81ff; background-color: #272822\">3600</span><span style=\"color: #f8f8f2; text-decoration-color: #f8f8f2; background-color: #272822\"> </span><span style=\"color: #ff4689; text-decoration-color: #ff4689; background-color: #272822\">+</span><span style=\"color: #f8f8f2; text-decoration-color: #f8f8f2; background-color: #272822\"> minutes </span><span style=\"color: #ff4689; text-decoration-color: #ff4689; background-color: #272822\">*</span><span style=\"color: #f8f8f2; text-decoration-color: #f8f8f2; background-color: #272822\"> </span><span style=\"color: #ae81ff; text-decoration-color: #ae81ff; background-color: #272822\">60</span><span style=\"color: #f8f8f2; text-decoration-color: #f8f8f2; background-color: #272822\"> </span><span style=\"color: #ff4689; text-decoration-color: #ff4689; background-color: #272822\">+</span><span style=\"color: #f8f8f2; text-decoration-color: #f8f8f2; background-color: #272822\"> seconds</span><span style=\"background-color: #272822\">                                                          </span>  \n",
       "  <span style=\"background-color: #272822\">                                                                                                               </span>  \n",
       "  <span style=\"color: #959077; text-decoration-color: #959077; background-color: #272822\"># Marathon distance in kilometers</span><span style=\"background-color: #272822\">                                                                              </span>  \n",
       "  <span style=\"color: #f8f8f2; text-decoration-color: #f8f8f2; background-color: #272822\">marathon_distance_km </span><span style=\"color: #ff4689; text-decoration-color: #ff4689; background-color: #272822\">=</span><span style=\"color: #f8f8f2; text-decoration-color: #f8f8f2; background-color: #272822\"> </span><span style=\"color: #ae81ff; text-decoration-color: #ae81ff; background-color: #272822\">42.195</span><span style=\"background-color: #272822\">                                                                                  </span>  \n",
       "  <span style=\"background-color: #272822\">                                                                                                               </span>  \n",
       "  <span style=\"color: #959077; text-decoration-color: #959077; background-color: #272822\"># Kipchoge's speed in km/s</span><span style=\"background-color: #272822\">                                                                                     </span>  \n",
       "  <span style=\"color: #f8f8f2; text-decoration-color: #f8f8f2; background-color: #272822\">speed_kms </span><span style=\"color: #ff4689; text-decoration-color: #ff4689; background-color: #272822\">=</span><span style=\"color: #f8f8f2; text-decoration-color: #f8f8f2; background-color: #272822\"> marathon_distance_km </span><span style=\"color: #ff4689; text-decoration-color: #ff4689; background-color: #272822\">/</span><span style=\"color: #f8f8f2; text-decoration-color: #f8f8f2; background-color: #272822\"> total_seconds</span><span style=\"background-color: #272822\">                                                               </span>  \n",
       "  <span style=\"background-color: #272822\">                                                                                                               </span>  \n",
       "  <span style=\"color: #959077; text-decoration-color: #959077; background-color: #272822\"># Moon perigee distance in kilometers</span><span style=\"background-color: #272822\">                                                                          </span>  \n",
       "  <span style=\"color: #f8f8f2; text-decoration-color: #f8f8f2; background-color: #272822\">moon_perigee_distance_km </span><span style=\"color: #ff4689; text-decoration-color: #ff4689; background-color: #272822\">=</span><span style=\"color: #f8f8f2; text-decoration-color: #f8f8f2; background-color: #272822\"> </span><span style=\"color: #ae81ff; text-decoration-color: #ae81ff; background-color: #272822\">363104</span><span style=\"background-color: #272822\">                                                                              </span>  \n",
       "  <span style=\"background-color: #272822\">                                                                                                               </span>  \n",
       "  <span style=\"color: #959077; text-decoration-color: #959077; background-color: #272822\"># Time to run the distance between Earth and the Moon in seconds</span><span style=\"background-color: #272822\">                                               </span>  \n",
       "  <span style=\"color: #f8f8f2; text-decoration-color: #f8f8f2; background-color: #272822\">time_to_moon_seconds </span><span style=\"color: #ff4689; text-decoration-color: #ff4689; background-color: #272822\">=</span><span style=\"color: #f8f8f2; text-decoration-color: #f8f8f2; background-color: #272822\"> moon_perigee_distance_km </span><span style=\"color: #ff4689; text-decoration-color: #ff4689; background-color: #272822\">/</span><span style=\"color: #f8f8f2; text-decoration-color: #f8f8f2; background-color: #272822\"> speed_kms</span><span style=\"background-color: #272822\">                                                    </span>  \n",
       "  <span style=\"background-color: #272822\">                                                                                                               </span>  \n",
       "  <span style=\"color: #959077; text-decoration-color: #959077; background-color: #272822\"># Converting time to hours</span><span style=\"background-color: #272822\">                                                                                     </span>  \n",
       "  <span style=\"color: #f8f8f2; text-decoration-color: #f8f8f2; background-color: #272822\">time_to_moon_hours </span><span style=\"color: #ff4689; text-decoration-color: #ff4689; background-color: #272822\">=</span><span style=\"color: #f8f8f2; text-decoration-color: #f8f8f2; background-color: #272822\"> time_to_moon_seconds </span><span style=\"color: #ff4689; text-decoration-color: #ff4689; background-color: #272822\">/</span><span style=\"color: #f8f8f2; text-decoration-color: #f8f8f2; background-color: #272822\"> </span><span style=\"color: #ae81ff; text-decoration-color: #ae81ff; background-color: #272822\">3600</span><span style=\"background-color: #272822\">                                                               </span>  \n",
       "  <span style=\"background-color: #272822\">                                                                                                               </span>  \n",
       "  <span style=\"color: #959077; text-decoration-color: #959077; background-color: #272822\"># Rounding to the nearest thousand hours</span><span style=\"background-color: #272822\">                                                                       </span>  \n",
       "  <span style=\"color: #f8f8f2; text-decoration-color: #f8f8f2; background-color: #272822\">time_to_moon_rounded </span><span style=\"color: #ff4689; text-decoration-color: #ff4689; background-color: #272822\">=</span><span style=\"color: #f8f8f2; text-decoration-color: #f8f8f2; background-color: #272822\"> round(time_to_moon_hours, </span><span style=\"color: #ff4689; text-decoration-color: #ff4689; background-color: #272822\">-</span><span style=\"color: #ae81ff; text-decoration-color: #ae81ff; background-color: #272822\">3</span><span style=\"color: #f8f8f2; text-decoration-color: #f8f8f2; background-color: #272822\">)</span><span style=\"background-color: #272822\">                                                           </span>  \n",
       "  <span style=\"background-color: #272822\">                                                                                                               </span>  \n",
       "  <span style=\"color: #f8f8f2; text-decoration-color: #f8f8f2; background-color: #272822\">print(</span><span style=\"color: #e6db74; text-decoration-color: #e6db74; background-color: #272822\">f\"Time to run from Earth to Moon: {</span><span style=\"color: #f8f8f2; text-decoration-color: #f8f8f2; background-color: #272822\">time_to_moon_rounded</span><span style=\"color: #e6db74; text-decoration-color: #e6db74; background-color: #272822\">} hours\"</span><span style=\"color: #f8f8f2; text-decoration-color: #f8f8f2; background-color: #272822\">)</span><span style=\"background-color: #272822\">                                         </span>  \n",
       "  <span style=\"color: #f8f8f2; text-decoration-color: #f8f8f2; background-color: #272822\">final_answer(int(time_to_moon_rounded))</span><span style=\"background-color: #272822\">                                                                        </span>  \n",
       " ───────────────────────────────────────────────────────────────────────────────────────────────────────────────── \n",
       "</pre>\n"
      ],
      "text/plain": [
       " ─ \u001b[1mExecuting parsed code:\u001b[0m ──────────────────────────────────────────────────────────────────────────────────────── \n",
       "  \u001b[38;2;149;144;119;48;2;39;40;34m# Extracting relevant data\u001b[0m\u001b[48;2;39;40;34m                                                                                     \u001b[0m  \n",
       "  \u001b[38;2;248;248;242;48;2;39;40;34mrecord_time_str\u001b[0m\u001b[38;2;248;248;242;48;2;39;40;34m \u001b[0m\u001b[38;2;255;70;137;48;2;39;40;34m=\u001b[0m\u001b[38;2;248;248;242;48;2;39;40;34m \u001b[0m\u001b[38;2;230;219;116;48;2;39;40;34m\"\u001b[0m\u001b[38;2;230;219;116;48;2;39;40;34m2:01:39\u001b[0m\u001b[38;2;230;219;116;48;2;39;40;34m\"\u001b[0m\u001b[38;2;248;248;242;48;2;39;40;34m  \u001b[0m\u001b[38;2;149;144;119;48;2;39;40;34m# format HH:MM:SS\u001b[0m\u001b[48;2;39;40;34m                                                                 \u001b[0m  \n",
       "  \u001b[48;2;39;40;34m                                                                                                               \u001b[0m  \n",
       "  \u001b[38;2;149;144;119;48;2;39;40;34m# Splitting the time string into hours, minutes, and seconds\u001b[0m\u001b[48;2;39;40;34m                                                   \u001b[0m  \n",
       "  \u001b[38;2;248;248;242;48;2;39;40;34mhours\u001b[0m\u001b[38;2;248;248;242;48;2;39;40;34m,\u001b[0m\u001b[38;2;248;248;242;48;2;39;40;34m \u001b[0m\u001b[38;2;248;248;242;48;2;39;40;34mminutes\u001b[0m\u001b[38;2;248;248;242;48;2;39;40;34m,\u001b[0m\u001b[38;2;248;248;242;48;2;39;40;34m \u001b[0m\u001b[38;2;248;248;242;48;2;39;40;34mseconds\u001b[0m\u001b[38;2;248;248;242;48;2;39;40;34m \u001b[0m\u001b[38;2;255;70;137;48;2;39;40;34m=\u001b[0m\u001b[38;2;248;248;242;48;2;39;40;34m \u001b[0m\u001b[38;2;248;248;242;48;2;39;40;34mmap\u001b[0m\u001b[38;2;248;248;242;48;2;39;40;34m(\u001b[0m\u001b[38;2;248;248;242;48;2;39;40;34mint\u001b[0m\u001b[38;2;248;248;242;48;2;39;40;34m,\u001b[0m\u001b[38;2;248;248;242;48;2;39;40;34m \u001b[0m\u001b[38;2;248;248;242;48;2;39;40;34mrecord_time_str\u001b[0m\u001b[38;2;255;70;137;48;2;39;40;34m.\u001b[0m\u001b[38;2;248;248;242;48;2;39;40;34msplit\u001b[0m\u001b[38;2;248;248;242;48;2;39;40;34m(\u001b[0m\u001b[38;2;230;219;116;48;2;39;40;34m'\u001b[0m\u001b[38;2;230;219;116;48;2;39;40;34m:\u001b[0m\u001b[38;2;230;219;116;48;2;39;40;34m'\u001b[0m\u001b[38;2;248;248;242;48;2;39;40;34m)\u001b[0m\u001b[38;2;248;248;242;48;2;39;40;34m)\u001b[0m\u001b[48;2;39;40;34m                                                 \u001b[0m  \n",
       "  \u001b[48;2;39;40;34m                                                                                                               \u001b[0m  \n",
       "  \u001b[38;2;149;144;119;48;2;39;40;34m# Converting the marathon time to total seconds\u001b[0m\u001b[48;2;39;40;34m                                                                \u001b[0m  \n",
       "  \u001b[38;2;248;248;242;48;2;39;40;34mtotal_seconds\u001b[0m\u001b[38;2;248;248;242;48;2;39;40;34m \u001b[0m\u001b[38;2;255;70;137;48;2;39;40;34m=\u001b[0m\u001b[38;2;248;248;242;48;2;39;40;34m \u001b[0m\u001b[38;2;248;248;242;48;2;39;40;34mhours\u001b[0m\u001b[38;2;248;248;242;48;2;39;40;34m \u001b[0m\u001b[38;2;255;70;137;48;2;39;40;34m*\u001b[0m\u001b[38;2;248;248;242;48;2;39;40;34m \u001b[0m\u001b[38;2;174;129;255;48;2;39;40;34m3600\u001b[0m\u001b[38;2;248;248;242;48;2;39;40;34m \u001b[0m\u001b[38;2;255;70;137;48;2;39;40;34m+\u001b[0m\u001b[38;2;248;248;242;48;2;39;40;34m \u001b[0m\u001b[38;2;248;248;242;48;2;39;40;34mminutes\u001b[0m\u001b[38;2;248;248;242;48;2;39;40;34m \u001b[0m\u001b[38;2;255;70;137;48;2;39;40;34m*\u001b[0m\u001b[38;2;248;248;242;48;2;39;40;34m \u001b[0m\u001b[38;2;174;129;255;48;2;39;40;34m60\u001b[0m\u001b[38;2;248;248;242;48;2;39;40;34m \u001b[0m\u001b[38;2;255;70;137;48;2;39;40;34m+\u001b[0m\u001b[38;2;248;248;242;48;2;39;40;34m \u001b[0m\u001b[38;2;248;248;242;48;2;39;40;34mseconds\u001b[0m\u001b[48;2;39;40;34m                                                          \u001b[0m  \n",
       "  \u001b[48;2;39;40;34m                                                                                                               \u001b[0m  \n",
       "  \u001b[38;2;149;144;119;48;2;39;40;34m# Marathon distance in kilometers\u001b[0m\u001b[48;2;39;40;34m                                                                              \u001b[0m  \n",
       "  \u001b[38;2;248;248;242;48;2;39;40;34mmarathon_distance_km\u001b[0m\u001b[38;2;248;248;242;48;2;39;40;34m \u001b[0m\u001b[38;2;255;70;137;48;2;39;40;34m=\u001b[0m\u001b[38;2;248;248;242;48;2;39;40;34m \u001b[0m\u001b[38;2;174;129;255;48;2;39;40;34m42.195\u001b[0m\u001b[48;2;39;40;34m                                                                                  \u001b[0m  \n",
       "  \u001b[48;2;39;40;34m                                                                                                               \u001b[0m  \n",
       "  \u001b[38;2;149;144;119;48;2;39;40;34m# Kipchoge's speed in km/s\u001b[0m\u001b[48;2;39;40;34m                                                                                     \u001b[0m  \n",
       "  \u001b[38;2;248;248;242;48;2;39;40;34mspeed_kms\u001b[0m\u001b[38;2;248;248;242;48;2;39;40;34m \u001b[0m\u001b[38;2;255;70;137;48;2;39;40;34m=\u001b[0m\u001b[38;2;248;248;242;48;2;39;40;34m \u001b[0m\u001b[38;2;248;248;242;48;2;39;40;34mmarathon_distance_km\u001b[0m\u001b[38;2;248;248;242;48;2;39;40;34m \u001b[0m\u001b[38;2;255;70;137;48;2;39;40;34m/\u001b[0m\u001b[38;2;248;248;242;48;2;39;40;34m \u001b[0m\u001b[38;2;248;248;242;48;2;39;40;34mtotal_seconds\u001b[0m\u001b[48;2;39;40;34m                                                               \u001b[0m  \n",
       "  \u001b[48;2;39;40;34m                                                                                                               \u001b[0m  \n",
       "  \u001b[38;2;149;144;119;48;2;39;40;34m# Moon perigee distance in kilometers\u001b[0m\u001b[48;2;39;40;34m                                                                          \u001b[0m  \n",
       "  \u001b[38;2;248;248;242;48;2;39;40;34mmoon_perigee_distance_km\u001b[0m\u001b[38;2;248;248;242;48;2;39;40;34m \u001b[0m\u001b[38;2;255;70;137;48;2;39;40;34m=\u001b[0m\u001b[38;2;248;248;242;48;2;39;40;34m \u001b[0m\u001b[38;2;174;129;255;48;2;39;40;34m363104\u001b[0m\u001b[48;2;39;40;34m                                                                              \u001b[0m  \n",
       "  \u001b[48;2;39;40;34m                                                                                                               \u001b[0m  \n",
       "  \u001b[38;2;149;144;119;48;2;39;40;34m# Time to run the distance between Earth and the Moon in seconds\u001b[0m\u001b[48;2;39;40;34m                                               \u001b[0m  \n",
       "  \u001b[38;2;248;248;242;48;2;39;40;34mtime_to_moon_seconds\u001b[0m\u001b[38;2;248;248;242;48;2;39;40;34m \u001b[0m\u001b[38;2;255;70;137;48;2;39;40;34m=\u001b[0m\u001b[38;2;248;248;242;48;2;39;40;34m \u001b[0m\u001b[38;2;248;248;242;48;2;39;40;34mmoon_perigee_distance_km\u001b[0m\u001b[38;2;248;248;242;48;2;39;40;34m \u001b[0m\u001b[38;2;255;70;137;48;2;39;40;34m/\u001b[0m\u001b[38;2;248;248;242;48;2;39;40;34m \u001b[0m\u001b[38;2;248;248;242;48;2;39;40;34mspeed_kms\u001b[0m\u001b[48;2;39;40;34m                                                    \u001b[0m  \n",
       "  \u001b[48;2;39;40;34m                                                                                                               \u001b[0m  \n",
       "  \u001b[38;2;149;144;119;48;2;39;40;34m# Converting time to hours\u001b[0m\u001b[48;2;39;40;34m                                                                                     \u001b[0m  \n",
       "  \u001b[38;2;248;248;242;48;2;39;40;34mtime_to_moon_hours\u001b[0m\u001b[38;2;248;248;242;48;2;39;40;34m \u001b[0m\u001b[38;2;255;70;137;48;2;39;40;34m=\u001b[0m\u001b[38;2;248;248;242;48;2;39;40;34m \u001b[0m\u001b[38;2;248;248;242;48;2;39;40;34mtime_to_moon_seconds\u001b[0m\u001b[38;2;248;248;242;48;2;39;40;34m \u001b[0m\u001b[38;2;255;70;137;48;2;39;40;34m/\u001b[0m\u001b[38;2;248;248;242;48;2;39;40;34m \u001b[0m\u001b[38;2;174;129;255;48;2;39;40;34m3600\u001b[0m\u001b[48;2;39;40;34m                                                               \u001b[0m  \n",
       "  \u001b[48;2;39;40;34m                                                                                                               \u001b[0m  \n",
       "  \u001b[38;2;149;144;119;48;2;39;40;34m# Rounding to the nearest thousand hours\u001b[0m\u001b[48;2;39;40;34m                                                                       \u001b[0m  \n",
       "  \u001b[38;2;248;248;242;48;2;39;40;34mtime_to_moon_rounded\u001b[0m\u001b[38;2;248;248;242;48;2;39;40;34m \u001b[0m\u001b[38;2;255;70;137;48;2;39;40;34m=\u001b[0m\u001b[38;2;248;248;242;48;2;39;40;34m \u001b[0m\u001b[38;2;248;248;242;48;2;39;40;34mround\u001b[0m\u001b[38;2;248;248;242;48;2;39;40;34m(\u001b[0m\u001b[38;2;248;248;242;48;2;39;40;34mtime_to_moon_hours\u001b[0m\u001b[38;2;248;248;242;48;2;39;40;34m,\u001b[0m\u001b[38;2;248;248;242;48;2;39;40;34m \u001b[0m\u001b[38;2;255;70;137;48;2;39;40;34m-\u001b[0m\u001b[38;2;174;129;255;48;2;39;40;34m3\u001b[0m\u001b[38;2;248;248;242;48;2;39;40;34m)\u001b[0m\u001b[48;2;39;40;34m                                                           \u001b[0m  \n",
       "  \u001b[48;2;39;40;34m                                                                                                               \u001b[0m  \n",
       "  \u001b[38;2;248;248;242;48;2;39;40;34mprint\u001b[0m\u001b[38;2;248;248;242;48;2;39;40;34m(\u001b[0m\u001b[38;2;230;219;116;48;2;39;40;34mf\u001b[0m\u001b[38;2;230;219;116;48;2;39;40;34m\"\u001b[0m\u001b[38;2;230;219;116;48;2;39;40;34mTime to run from Earth to Moon: \u001b[0m\u001b[38;2;230;219;116;48;2;39;40;34m{\u001b[0m\u001b[38;2;248;248;242;48;2;39;40;34mtime_to_moon_rounded\u001b[0m\u001b[38;2;230;219;116;48;2;39;40;34m}\u001b[0m\u001b[38;2;230;219;116;48;2;39;40;34m hours\u001b[0m\u001b[38;2;230;219;116;48;2;39;40;34m\"\u001b[0m\u001b[38;2;248;248;242;48;2;39;40;34m)\u001b[0m\u001b[48;2;39;40;34m                                         \u001b[0m  \n",
       "  \u001b[38;2;248;248;242;48;2;39;40;34mfinal_answer\u001b[0m\u001b[38;2;248;248;242;48;2;39;40;34m(\u001b[0m\u001b[38;2;248;248;242;48;2;39;40;34mint\u001b[0m\u001b[38;2;248;248;242;48;2;39;40;34m(\u001b[0m\u001b[38;2;248;248;242;48;2;39;40;34mtime_to_moon_rounded\u001b[0m\u001b[38;2;248;248;242;48;2;39;40;34m)\u001b[0m\u001b[38;2;248;248;242;48;2;39;40;34m)\u001b[0m\u001b[48;2;39;40;34m                                                                        \u001b[0m  \n",
       " ───────────────────────────────────────────────────────────────────────────────────────────────────────────────── \n"
      ]
     },
     "metadata": {},
     "output_type": "display_data"
    },
    {
     "data": {
      "text/html": [
       "<pre style=\"white-space:pre;overflow-x:auto;line-height:normal;font-family:Menlo,'DejaVu Sans Mono',consolas,'Courier New',monospace\"><span style=\"font-weight: bold\">Execution logs:</span>\n",
       "Time to run from Earth to Moon: 17000.0 hours\n",
       "\n",
       "<span style=\"color: #d4b702; text-decoration-color: #d4b702; font-weight: bold\">Out - Final answer: 17000</span>\n",
       "</pre>\n"
      ],
      "text/plain": [
       "\u001b[1mExecution logs:\u001b[0m\n",
       "Time to run from Earth to Moon: 17000.0 hours\n",
       "\n",
       "\u001b[1;38;2;212;183;2mOut - Final answer: 17000\u001b[0m\n"
      ]
     },
     "metadata": {},
     "output_type": "display_data"
    },
    {
     "data": {
      "text/html": [
       "<pre style=\"white-space:pre;overflow-x:auto;line-height:normal;font-family:Menlo,'DejaVu Sans Mono',consolas,'Courier New',monospace\"><span style=\"color: #7f7f7f; text-decoration-color: #7f7f7f\">[Step 3: Duration 14.55 seconds| Input tokens: 10,064 | Output tokens: 619]</span>\n",
       "</pre>\n"
      ],
      "text/plain": [
       "\u001b[2m[Step 3: Duration 14.55 seconds| Input tokens: 10,064 | Output tokens: 619]\u001b[0m\n"
      ]
     },
     "metadata": {},
     "output_type": "display_data"
    },
    {
     "name": "stdout",
     "output_type": "stream",
     "text": [
      "17000\n"
     ]
    }
   ],
   "source": [
    "result = agent.run(\"If Eliud Kipchoge could maintain his record-making marathon pace indefinitely, how many thousand hours would it take him to run the distance between the Earth and the Moon its closest approach? Please use the minimum perigee value on the Wikipedia page for the Moon when carrying out your calculation. Round your result to the nearest 1000 hours and do not use any comma separators if necessary.\")\n",
    "print(result)"
   ]
  },
  {
   "cell_type": "code",
   "execution_count": null,
   "id": "3ece4a81",
   "metadata": {},
   "outputs": [],
   "source": []
  }
 ],
 "metadata": {
  "kernelspec": {
   "display_name": "Python (myvenv)",
   "language": "python",
   "name": "myvenv"
  },
  "language_info": {
   "codemirror_mode": {
    "name": "ipython",
    "version": 3
   },
   "file_extension": ".py",
   "mimetype": "text/x-python",
   "name": "python",
   "nbconvert_exporter": "python",
   "pygments_lexer": "ipython3",
   "version": "3.12.3"
  }
 },
 "nbformat": 4,
 "nbformat_minor": 5
}
