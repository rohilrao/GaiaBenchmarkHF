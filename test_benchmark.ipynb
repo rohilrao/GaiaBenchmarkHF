{
 "cells": [
  {
   "cell_type": "code",
   "execution_count": 5,
   "id": "48797a18",
   "metadata": {},
   "outputs": [],
   "source": [
    "from utils.file_reader import read_file\n",
    "from utils.search_capability import *"
   ]
  },
  {
   "cell_type": "code",
   "execution_count": 22,
   "id": "f7235f4b",
   "metadata": {},
   "outputs": [
    {
     "name": "stdout",
     "output_type": "stream",
     "text": [
      "\n",
      "=== All examples from 2023_level1 ===\n",
      "Total examples: 53\n",
      "task_id: 1f975693-876d-457b-a649-393859e79bf3\n",
      "Question: Hi, I was out sick from my classes on Friday, so I'm trying to figure out what I need to study for my Calculus mid-term next week. My friend from class sent me an audio recording of Professor Willowbrook giving out the recommended reading for the test, but my headphones are broken :(\n",
      "\n",
      "Could you please listen to the recording for me and tell me the page numbers I'm supposed to go over? I've attached a file called Homework.mp3 that has the recording. Please provide just the page numbers as a comma-delimited list. And please provide the list in ascending order.\n",
      "Level: 1\n",
      "Final answer: 132, 133, 134, 197, 245\n",
      "file_name: 1f975693-876d-457b-a649-393859e79bf3.mp3\n",
      "file_path: /mnt/data4/home/rrao/projects/GaiaBenchmarkHF/2023/validation/1f975693-876d-457b-a649-393859e79bf3.mp3\n",
      "Annotator Metadata: <class 'dict'> with keys ['Steps', 'Number of steps', 'How long did this take?', 'Tools', 'Number of tools']\n"
     ]
    }
   ],
   "source": [
    "from datasets import load_dataset\n",
    "\n",
    "# Path to your GAIA loader script\n",
    "loader_path = \"./GAIA.py\"\n",
    "\n",
    "# Levels to load\n",
    "levels = [\"2023_level1\"]\n",
    "\n",
    "# Load datasets for each level\n",
    "datasets = {}\n",
    "for level in levels:\n",
    "    datasets[level] = load_dataset(loader_path, name=level, split=\"validation\")\n",
    "    \n",
    "    # Print all examples in the dataset\n",
    "    print(f\"\\n=== All examples from {level} ===\")\n",
    "    print(f\"Total examples: {len(datasets[level])}\")\n",
    "    \n",
    "    for i, example in enumerate(datasets[level]):\n",
    "        #print(f\"\\n--- Example {i+1} ---\")\n",
    "        if i == 44:\n",
    "            for k, v in example.items():\n",
    "                # For large values like annotator metadata, print just a summary\n",
    "                if isinstance(v, dict):\n",
    "                    print(f\"{k}: {type(v)} with keys {list(v.keys())}\")\n",
    "                \n",
    "                else:\n",
    "                    print(f\"{k}: {v}\")\n"
   ]
  },
  {
   "cell_type": "code",
   "execution_count": null,
   "id": "910d4735",
   "metadata": {},
   "outputs": [],
   "source": []
  }
 ],
 "metadata": {
  "kernelspec": {
   "display_name": "Python (myvenv)",
   "language": "python",
   "name": "myvenv"
  },
  "language_info": {
   "codemirror_mode": {
    "name": "ipython",
    "version": 3
   },
   "file_extension": ".py",
   "mimetype": "text/x-python",
   "name": "python",
   "nbconvert_exporter": "python",
   "pygments_lexer": "ipython3",
   "version": "3.12.3"
  }
 },
 "nbformat": 4,
 "nbformat_minor": 5
}
